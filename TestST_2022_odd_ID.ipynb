{
 "cells": [
  {
   "cell_type": "markdown",
   "metadata": {},
   "source": [
    "----\n",
    "# Test System Theory - ODD student ID\n",
    "----"
   ]
  },
  {
   "cell_type": "code",
   "execution_count": 2,
   "metadata": {},
   "outputs": [],
   "source": [
    "import platform\n",
    "import sys\n",
    "import os\n",
    "import datetime\n",
    "import hashlib\n",
    "\n",
    "import numpy as np\n",
    "import matplotlib.pyplot as plt\n",
    "import scipy.signal"
   ]
  },
  {
   "cell_type": "markdown",
   "metadata": {},
   "source": [
    "---- \n",
    "## Task 0\n",
    "---- \n",
    "Fill variables with appropriate data and run code below:\n",
    "* FirstName_and_LastName\n",
    "* StudentID\n",
    "* Group\n"
   ]
  },
  {
   "cell_type": "code",
   "execution_count": 5,
   "metadata": {},
   "outputs": [
    {
     "name": "stdout",
     "output_type": "stream",
     "text": [
      "Rumiia_z_Bakhtiiarova 150207 odd\n",
      "D=2022-02-01 12:11:27.952305 P=h:\\SysTheorLab\n",
      "E=H:\\conda\\python.exe V=3.9.5\n",
      "Windows-10-10.0.19042-SP0 AMD64\n",
      "b1fd64d66430646b7a9949bab6cfe0104e605b447525afc20cf5762ca47b1028\n"
     ]
    }
   ],
   "source": [
    "FirstName_and_LastName = \"Rumiia_z_Bakhtiiarova\"\n",
    "StudentID              = 150207\n",
    "Group                  = \"odd\"\n",
    "\n",
    "#run\n",
    " \n",
    "idd = \"{} {} {}\\nD={} P={}\\nE={} V={}\\n{} {}\".format(FirstName_and_LastName, StudentID, Group, datetime.datetime.now(), os.getcwd(), sys.executable, platform.python_version(), platform.platform(), platform.machine())\n",
    "print(idd)\n",
    "print(hashlib.sha256(idd.encode()).hexdigest())"
   ]
  },
  {
   "attachments": {},
   "cell_type": "markdown",
   "metadata": {},
   "source": [
    "Draw graphs:\n",
    "\n",
    " in the top-left part of the window, draw the graph of the function \n",
    "f(x)=x^13−2x^7+x^2−3x+R\n",
    " for x in the interval <−3;5> in the top-right half of the window, draw the graph of the function \n",
    "g(x)=−x^2−3x−R\n",
    " for x in the interval <−10;12>\n",
    "in the bottom half of the window, draw the graph of the function \n",
    "h(x)=g(x)*f(x)−(R+9)*x^9+R\n",
    " for x in the interval <−3;8>add titles, descriptions, grid, 12% margins\n",
    "where R = last digit of your index number."
   ]
  },
  {
   "cell_type": "code",
   "execution_count": 1,
   "metadata": {},
   "outputs": [
    {
     "ename": "NameError",
     "evalue": "name 'np' is not defined",
     "output_type": "error",
     "traceback": [
      "\u001b[1;31m---------------------------------------------------------------------------\u001b[0m",
      "\u001b[1;31mNameError\u001b[0m                                 Traceback (most recent call last)",
      "\u001b[1;32m~\\AppData\\Local\\Temp\\ipykernel_11900\\2439533436.py\u001b[0m in \u001b[0;36m<module>\u001b[1;34m\u001b[0m\n\u001b[0;32m     55\u001b[0m     \u001b[1;32mreturn\u001b[0m\u001b[1;33m\u001b[0m\u001b[1;33m\u001b[0m\u001b[0m\n\u001b[0;32m     56\u001b[0m \u001b[1;33m\u001b[0m\u001b[0m\n\u001b[1;32m---> 57\u001b[1;33m \u001b[0mintroduction_plot_polynomial\u001b[0m\u001b[1;33m(\u001b[0m\u001b[1;33m)\u001b[0m\u001b[1;33m\u001b[0m\u001b[1;33m\u001b[0m\u001b[0m\n\u001b[0m\u001b[0;32m     58\u001b[0m \u001b[1;33m\u001b[0m\u001b[0m\n\u001b[0;32m     59\u001b[0m \u001b[1;33m\u001b[0m\u001b[0m\n",
      "\u001b[1;32m~\\AppData\\Local\\Temp\\ipykernel_11900\\2439533436.py\u001b[0m in \u001b[0;36mintroduction_plot_polynomial\u001b[1;34m()\u001b[0m\n\u001b[0;32m      6\u001b[0m     \u001b[0mR\u001b[0m \u001b[1;33m=\u001b[0m \u001b[0msympy\u001b[0m\u001b[1;33m.\u001b[0m\u001b[0mSymbol\u001b[0m\u001b[1;33m(\u001b[0m\u001b[1;34m'R'\u001b[0m\u001b[1;33m,\u001b[0m \u001b[0mreal\u001b[0m\u001b[1;33m=\u001b[0m\u001b[1;32mTrue\u001b[0m\u001b[1;33m)\u001b[0m\u001b[1;33m\u001b[0m\u001b[1;33m\u001b[0m\u001b[0m\n\u001b[0;32m      7\u001b[0m     \u001b[0mR\u001b[0m\u001b[1;33m=\u001b[0m\u001b[1;36m9\u001b[0m\u001b[1;33m\u001b[0m\u001b[1;33m\u001b[0m\u001b[0m\n\u001b[1;32m----> 8\u001b[1;33m     \u001b[0ma\u001b[0m \u001b[1;33m=\u001b[0m \u001b[0mnp\u001b[0m\u001b[1;33m.\u001b[0m\u001b[0mpoly1d\u001b[0m\u001b[1;33m(\u001b[0m\u001b[1;33m[\u001b[0m \u001b[1;36m1\u001b[0m\u001b[1;33m,\u001b[0m \u001b[1;36m0\u001b[0m\u001b[1;33m,\u001b[0m \u001b[1;36m0\u001b[0m\u001b[1;33m,\u001b[0m \u001b[1;36m0\u001b[0m\u001b[1;33m,\u001b[0m \u001b[1;36m0\u001b[0m\u001b[1;33m,\u001b[0m \u001b[1;36m0\u001b[0m\u001b[1;33m,\u001b[0m \u001b[1;33m-\u001b[0m\u001b[1;36m2\u001b[0m\u001b[1;33m,\u001b[0m \u001b[1;36m0\u001b[0m\u001b[1;33m,\u001b[0m \u001b[1;36m0\u001b[0m\u001b[1;33m,\u001b[0m \u001b[1;36m0\u001b[0m\u001b[1;33m,\u001b[0m \u001b[1;36m0\u001b[0m\u001b[1;33m,\u001b[0m \u001b[1;33m-\u001b[0m\u001b[1;36m3\u001b[0m\u001b[1;33m,\u001b[0m \u001b[0mR\u001b[0m\u001b[1;33m]\u001b[0m\u001b[1;33m)\u001b[0m\u001b[1;33m\u001b[0m\u001b[1;33m\u001b[0m\u001b[0m\n\u001b[0m\u001b[0;32m      9\u001b[0m     \u001b[0mb\u001b[0m \u001b[1;33m=\u001b[0m \u001b[0mnp\u001b[0m\u001b[1;33m.\u001b[0m\u001b[0mpoly1d\u001b[0m\u001b[1;33m(\u001b[0m\u001b[1;33m[\u001b[0m  \u001b[1;33m-\u001b[0m\u001b[1;36m1\u001b[0m\u001b[1;33m,\u001b[0m \u001b[1;33m-\u001b[0m\u001b[1;36m3\u001b[0m\u001b[1;33m,\u001b[0m \u001b[1;33m-\u001b[0m\u001b[0mR\u001b[0m\u001b[1;33m]\u001b[0m\u001b[1;33m)\u001b[0m\u001b[1;33m\u001b[0m\u001b[1;33m\u001b[0m\u001b[0m\n\u001b[0;32m     10\u001b[0m     \u001b[0mc\u001b[0m \u001b[1;33m=\u001b[0m \u001b[0mnp\u001b[0m\u001b[1;33m.\u001b[0m\u001b[0mpolymul\u001b[0m\u001b[1;33m(\u001b[0m\u001b[0ma\u001b[0m\u001b[1;33m,\u001b[0m\u001b[0mb\u001b[0m\u001b[1;33m)\u001b[0m \u001b[1;33m-\u001b[0m  \u001b[0mnp\u001b[0m\u001b[1;33m.\u001b[0m\u001b[0mpoly1d\u001b[0m\u001b[1;33m(\u001b[0m\u001b[1;33m[\u001b[0m\u001b[1;33m-\u001b[0m\u001b[1;33m(\u001b[0m\u001b[0mR\u001b[0m\u001b[1;33m+\u001b[0m\u001b[1;36m9\u001b[0m\u001b[1;33m)\u001b[0m\u001b[1;33m,\u001b[0m \u001b[1;36m0\u001b[0m\u001b[1;33m,\u001b[0m \u001b[1;36m0\u001b[0m\u001b[1;33m,\u001b[0m \u001b[1;36m0\u001b[0m\u001b[1;33m,\u001b[0m \u001b[1;36m0\u001b[0m\u001b[1;33m,\u001b[0m \u001b[1;36m0\u001b[0m\u001b[1;33m,\u001b[0m \u001b[1;36m0\u001b[0m\u001b[1;33m,\u001b[0m \u001b[1;36m0\u001b[0m\u001b[1;33m,\u001b[0m \u001b[1;36m1\u001b[0m\u001b[1;33m]\u001b[0m\u001b[1;33m)\u001b[0m\u001b[1;33m\u001b[0m\u001b[1;33m\u001b[0m\u001b[0m\n",
      "\u001b[1;31mNameError\u001b[0m: name 'np' is not defined"
     ]
    }
   ],
   "source": [
    "#Task 1 - source code\n",
    "import sympy\n",
    "default_figsize=(14, 8)\n",
    "def introduction_plot_polynomial():\n",
    "    \n",
    "    R = sympy.Symbol('R', real=True)\n",
    "    R=9\n",
    "    a = np.poly1d([ 1, 0, 0, 0, 0, 0, -2, 0, 0, 0, 0, -3, R])\n",
    "    b = np.poly1d([  -1, -3, -R])\n",
    "    c = np.polymul(a,b) -  np.poly1d([-(R+9), 0, 0, 0, 0, 0, 0, 0, 1])\n",
    "\n",
    "    \n",
    "\n",
    "    print (\"a=\" + str(a.coeffs))\n",
    "    print (\"b=\" + str(b.coeffs))\n",
    "    print (\"c=\" + str(c.coeffs))\n",
    "    \n",
    "\n",
    "    x1 = np.linspace(-10,10,200)\n",
    "    x2 = np.linspace(-1,1,55)\n",
    "    x3= np.linspace(-1,1,55)\n",
    "    fig = plt.figure(1, figsize=default_figsize)\n",
    "\n",
    "    plt.subplot(2,2,1)\n",
    "    plt.plot(x1, a(x1),'r')\n",
    "    plt.margins(0.12,0.12)\n",
    "    plt.title(\"polinom1\")\n",
    "    plt.xlabel(\"x\")\n",
    "    plt.ylabel(\"y\")\n",
    "    plt.grid()\n",
    "    \n",
    "    fig = plt.figure(1, figsize=default_figsize)\n",
    "    plt.subplot(2,2,2)\n",
    "    plt.plot(x2, b(x2),'r')\n",
    "    plt.margins(0.12,0.12)\n",
    "    plt.title(\"polinom1\")\n",
    "    plt.xlabel(\"x\")\n",
    "    plt.ylabel(\"y\")\n",
    "    plt.grid()\n",
    "\n",
    "    fig = plt.figure(1, figsize=default_figsize)\n",
    "    plt.subplot(2,2,2)\n",
    "    plt.plot(x3, c(x3),'r')\n",
    "    plt.margins(0.12,0.12)\n",
    "    plt.title(\"polinom1\")\n",
    "    plt.xlabel(\"x\")\n",
    "    plt.ylabel(\"y\")\n",
    "    plt.grid()\n",
    "\n",
    "    \n",
    "    \n",
    "    \n",
    "    \n",
    "\n",
    "    return\n",
    "\n",
    "introduction_plot_polynomial()\n",
    "\n",
    "\n",
    "\n",
    " \n"
   ]
  },
  {
   "cell_type": "markdown",
   "metadata": {},
   "source": [
    "---- \n",
    "## Task 2 - Frequency response\n",
    "---- \n",
    "Write code for a FUNCTION which draws a graph of amplitude (in the top half of the window) and phase (in the bottom half of the window) characteristics for a given frequency response. The function takes as arguments the coefficients of the numerator and denominator of the frequency response in the form of vectors B and A.  \n",
    "The graphs must contain titles and descriptions of axes, 8 % margins.\n"
   ]
  },
  {
   "cell_type": "code",
   "execution_count": 43,
   "metadata": {},
   "outputs": [
    {
     "data": {
      "image/png": "[encoded data removed]",
      "text/plain": [
       "<Figure size 1008x576 with 2 Axes>"
      ]
     },
     "metadata": {
      "needs_background": "light"
     },
     "output_type": "display_data"
    }
   ],
   "source": [
    "#Task 2 - source code\n",
    "def plotMandPCharacteristics(B, A):\n",
    "    \n",
    " s = w*1j\n",
    "\n",
    "\n",
    " H = scipy.signal.freqs(B, A, w) [1]\n",
    "\n",
    "\n",
    " M = np.abs(H)\n",
    " P = np.angle(H)\n",
    "\n",
    "\n",
    " fig= plt.figure(1, figsize=default_figsize)\n",
    " plt.subplot(2,2,1)\n",
    " plt.loglog(w, M)\n",
    " plt.title(\"Magnittude characteristics\")\n",
    " plt.xlabel(\"w\")\n",
    " plt.ylabel(\"|H(jw)\")\n",
    " plt.margins(0.08,0.08)\n",
    " plt.grid()\n",
    "\n",
    " fig= plt.figure(1, figsize=default_figsize)\n",
    " plt.subplot(2,2,3)\n",
    " plt.semilogx(w, P)\n",
    " plt.title(\"Phase characteristics\")\n",
    " plt.xlabel(\"w\")\n",
    " plt.ylabel(\"angle\")\n",
    " plt.margins(0.08,0.08)\n",
    " plt.grid() \n",
    "\n",
    "\n",
    "w = np.logspace(-2, 2, 1000)\n",
    "\n",
    "    #plot plot plot\n",
    "    #plot plot plot\n",
    "    #plot plot plot\n",
    "\n",
    "\n",
    "#test example\n",
    "plotMandPCharacteristics([1, -3, 1], [1, -4, -2, 1])\n",
    "\n"
   ]
  },
  {
   "cell_type": "markdown",
   "metadata": {},
   "source": [
    "---- \n",
    "## Task 3 - Complex exponential Fourier series\n",
    "---- \n",
    "* Define the vector containing the samples of one period of the test signal from the graph (at least 200 samples).  \n",
    "\n",
    "* Based on the test function equation, find the signal decoposition into the complex exponential Fourier series (display equations for Fk).  \n",
    "\n",
    "* Display values of the first 2 complex exponential Fourier series coefficients (assume T=1).  \n",
    "\n",
    "* In a single graph, draw one period of the original signal (in RED) and the reconstructed signal (in GREEN) using the coefficients of Fk for |k| < (3+R),  \n",
    "\n",
    " where R = the last digit of the index number.\n",
    "\n",
    "\n",
    " TIP: Signal reconstruction from limited number of harmonics may be purely NUMERICAL solution (sum/difference of several signals/functions).  \n",
    " DO NOT USE `ipywidgets`!!\n",
    "\n",
    "\n",
    "<img alt=\"My Image\" src=\"data:image/png;base64,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\"/>\n"
   ]
  },
  {
   "cell_type": "code",
   "execution_count": 90,
   "metadata": {},
   "outputs": [
    {
     "data": {
      "text/latex": [
       "$\\displaystyle 0.375$"
      ],
      "text/plain": [
       "0.375000000000000"
      ]
     },
     "metadata": {},
     "output_type": "display_data"
    },
    {
     "data": {
      "text/latex": [
       "$\\displaystyle - \\frac{0.5 i}{\\pi k} + \\frac{0.5 i e^{- 0.5 i \\pi k}}{\\pi k} + \\frac{0.5 \\left(i \\pi k + 2\\right)}{\\pi^{2} k^{2}} - \\frac{1.0 e^{- 1.5 i \\pi k}}{\\pi^{2} k^{2}}$"
      ],
      "text/plain": [
       "-0.5*I/(pi*k) + 0.5*I*exp(-0.5*I*pi*k)/(pi*k) + 0.5*(I*pi*k + 2)/(pi**2*k**2) - 1.0*exp(-1.5*I*pi*k)/(pi**2*k**2)"
      ]
     },
     "metadata": {},
     "output_type": "display_data"
    },
    {
     "data": {
      "text/latex": [
       "$\\displaystyle \\frac{0.5 i e^{- 0.5 i \\pi k}}{\\pi k} + \\frac{1.0}{\\pi^{2} k^{2}} - \\frac{1.0 e^{- 1.5 i \\pi k}}{\\pi^{2} k^{2}}$"
      ],
      "text/plain": [
       "0.5*I*exp(-0.5*I*pi*k)/(pi*k) + 1.0/(pi**2*k**2) - 1.0*exp(-1.5*I*pi*k)/(pi**2*k**2)"
      ]
     },
     "metadata": {},
     "output_type": "display_data"
    },
    {
     "name": "stdout",
     "output_type": "stream",
     "text": [
      "[ 3.75000000e-01+0.j          2.60476127e-01-0.10132118j\n",
      "  5.06605918e-02-0.07957747j -4.17937384e-02+0.01125791j\n",
      " -9.54097912e-18+0.03978874j  3.58838360e-02-0.00405285j\n",
      "  5.62895465e-03-0.02652582j -2.06686412e-02+0.00206778j\n",
      " -9.75781955e-18+0.01989437j]\n"
     ]
    },
    {
     "data": {
      "text/plain": [
       "array([ 3.75000000e-01+0.j        ,  2.60476127e-01-0.10132118j,\n",
       "        5.06605918e-02-0.07957747j, -4.17937384e-02+0.01125791j,\n",
       "       -9.54097912e-18+0.03978874j,  3.58838360e-02-0.00405285j,\n",
       "        5.62895465e-03-0.02652582j, -2.06686412e-02+0.00206778j,\n",
       "       -9.75781955e-18+0.01989437j])"
      ]
     },
     "metadata": {},
     "output_type": "display_data"
    },
    {
     "data": {
      "image/png": "[encoded data removed]",
      "text/plain": [
       "<Figure size 1008x576 with 1 Axes>"
      ]
     },
     "metadata": {
      "needs_background": "light"
     },
     "output_type": "display_data"
    }
   ],
   "source": [
    "#Task 3 - source code\n",
    "\n",
    "\n",
    "#test function equation\n",
    "\n",
    "#derive and display formulas for Fk\n",
    "\n",
    "#derive and display values of the first 2 Fk\n",
    "\n",
    "#draw original signal and the reconstructed one (reconstructed from limited number of harmonics)\n",
    "\n",
    "t = sympy.Symbol('t', real = 'True', nonzero = 'True') \n",
    "T = 1\n",
    "fD = sympy.Piecewise((1, (t<=T/4)), (0, (t>=T/4) & (t<=3*T/4)), ((4*t/T-3), (t>3*T/4)))\n",
    "                    #((1, t<= T/4),(0, t>=T/4, t<=3*T/4), (4*t/T-3, t>3*T/4))\n",
    "\n",
    "#select one function\n",
    "currFun = fD\n",
    "\n",
    "#plot the selected function\n",
    "NumberOfSamples = 200\n",
    "Functor = sympy.lambdify(t, currFun, 'numpy')\n",
    "Time = np.linspace(0, T, NumberOfSamples)\n",
    "Samples = Functor(Time)\n",
    "fig= plt.figure(1, figsize=default_figsize)\n",
    "plt.plot(Time, Samples,  label = 'linear')\n",
    "\n",
    "\n",
    "\n",
    "\n",
    "k = sympy.Symbol('k', real = 'True', nonzero=True, positive=True, integer=True)\n",
    "\n",
    "def determineFourierCoefficients(Function, RangeBeg, RangeEnd):\n",
    "    #declare kernel\n",
    "    kernel = sympy.exp((-sympy.I * 2 * k * sympy.pi * t)/(T))\n",
    "    #determine F0\n",
    "    F0 = (1/T) * sympy.integrate(Function, (t, RangeBeg, RangeEnd))   \n",
    "    display(F0)\n",
    "    #determine Fk\n",
    "    Fk = (1/T) * sympy.integrate(Function * kernel, (t, RangeBeg, RangeEnd))\n",
    "    display(Fk)\n",
    "    display(Fk.simplify())\n",
    "    return F0, Fk\n",
    "\n",
    "F0, Fk = determineFourierCoefficients(currFun, 0, T)\n",
    "\n",
    "\n",
    "coeffF0 = np.array(F0, dtype=np.cdouble)\n",
    "\n",
    "fff = sympy.lambdify(k, Fk, 'numpy')\n",
    "kkk = (np.arange(1,(3+R)))\n",
    "coeffFk = fff(kkk)\n",
    "\n",
    "#coeffFk = sympy.lambdify(k,Fk, 'numpy')(1,9)\n",
    "coeff = np.append(coeffF0, coeffFk)\n",
    "\n",
    "print(coeff)\n",
    "\n",
    "display(coeff)\n",
    "\n"
   ]
  },
  {
   "cell_type": "markdown",
   "metadata": {},
   "source": [
    "---- \n",
    "## Task 4 - Minimum-phase system\n",
    "---- \n",
    "Check if the system H(s) is a minimum-phase system?\n",
    "$$ H(s)={{s^6+3.9s^5+6.01s^4+4.689s^3+1.963s^2+0.42s+0.036} \\over {s^2-0.5s-0.5}} $$  \n",
    "Implement appropriate code and give a clear answer.\n"
   ]
  },
  {
   "cell_type": "code",
   "execution_count": 96,
   "metadata": {},
   "outputs": [
    {
     "name": "stdout",
     "output_type": "stream",
     "text": [
      "[0.25+0.66143783j 0.25-0.66143783j]\n",
      "[-1.2+0.00000000e+00j -1. +0.00000000e+00j -0.5+1.08544283e-07j\n",
      " -0.5-1.08544283e-07j -0.4+0.00000000e+00j -0.3+0.00000000e+00j]\n",
      "[1.38680394e+01 9.99803027e-09]\n",
      "[-0.12664493  0.04399919]\n"
     ]
    }
   ],
   "source": [
    "#Task 4\n",
    "\n",
    "W = np.logspace(-2, 2, 2)\n",
    "B = np.poly1d([1, -0.5, 0.5])\n",
    "A = np.poly1d([1, 3.9, 6.01, 4.689, 1.963, 0.42, 0.036])\n",
    "s = W*1j\n",
    "H = B(s)/A(s) # or  H = np.polyval(B,s)/np.polyval(A,s) the same of the beginning equation\n",
    "M = np.abs(H)\n",
    "P = np.angle(H)\n",
    "\n",
    "print(np.roots(B))\n",
    "print(np.roots(A))\n",
    "print(M)\n",
    "print(P)\n",
    "\n",
    "\n",
    "\n"
   ]
  },
  {
   "cell_type": "markdown",
   "metadata": {},
   "source": [
    "### Task 4 - answer\n",
    "??????\n"
   ]
  },
  {
   "cell_type": "markdown",
   "metadata": {},
   "source": [
    "H(s) is minimal phase system"
   ]
  },
  {
   "cell_type": "markdown",
   "metadata": {},
   "source": [
    "---- \n",
    "## Task 5\n",
    "---- \n",
    "Write code for a FUNCTION which draws zeros (denoted by 'o') and poles (denoted by 'x') for a given frequency response on a single graph. The function takes as arguments the numerator and denominator of the frequency response in the form of vectors B and A. The graph must contain a title and descriptions of the axes."
   ]
  },
  {
   "cell_type": "code",
   "execution_count": 115,
   "metadata": {},
   "outputs": [
    {
     "name": "stdout",
     "output_type": "stream",
     "text": [
      "[1.+6.68896751e-09j 1.-6.68896751e-09j]\n",
      "[-5.57075056+0.j          0.28537528+0.31316126j  0.28537528-0.31316126j]\n"
     ]
    },
    {
     "name": "stderr",
     "output_type": "stream",
     "text": [
      "H:\\conda\\lib\\site-packages\\matplotlib\\cbook\\__init__.py:1298: ComplexWarning: Casting complex values to real discards the imaginary part\n",
      "  return np.asarray(x, float)\n"
     ]
    },
    {
     "data": {
      "image/png": "[encoded data removed]",
      "text/plain": [
       "<Figure size 1008x576 with 1 Axes>"
      ]
     },
     "metadata": {
      "needs_background": "light"
     },
     "output_type": "display_data"
    }
   ],
   "source": [
    "#Task 5 - source code\n",
    "def plotPolesAndZeros(B, A):\n",
    "    w = np.logspace(-2, 2, 1000)\n",
    "    poles = np.roots(B)\n",
    "    y_poles = np.logspace(1+6.68896751e-09j, 1-6.68896751e-09j, 1000)\n",
    "    y_zeros = np.logspace(-5.57075056,        0.28537528+0.31316126j ,1000)\n",
    "    zeros = np.roots(A)\n",
    "    print(poles)\n",
    "    print(zeros) \n",
    "    fig = plt.figure(1, figsize=default_figsize)\n",
    "    plt.plot(w, y_poles, 'o', w, y_zeros, 'x')\n",
    "    plt.title(\"poles and zeros\")\n",
    "    plt.xlabel(\"w\")\n",
    "    plt.ylabel(\"poles and zeros\")\n",
    "    plt.margins(0.08,0.08)\n",
    "    plt.grid()\n",
    "    #plot plot plot\n",
    "    #plot plot plot\n",
    "    #plot plot plot\n",
    "\n",
    "\n",
    "#test example\n",
    "plotPolesAndZeros([1, -2, 1], [1, 5, -3, 1])"
   ]
  },
  {
   "cell_type": "markdown",
   "metadata": {},
   "source": [
    "---- \n",
    "## Task 6\n",
    "---- \n",
    "Check if the system with frequency response H(s) is stable?\n",
    "$$ H(s)={{s^2+4} \\over {polynomial, with, coefficients, equal, to, digits, of, index, number}} $$  \n",
    "\n",
    "If your student ID = 123456, then the transmittance is of the form:\n",
    "$$ H(s)={{s^2+4} \\over {s^5+2s^4+3s^3+4s^2+5s+6}} $$ \n",
    "Implement appropriate code and give a clear answer.\n"
   ]
  },
  {
   "cell_type": "code",
   "execution_count": 97,
   "metadata": {},
   "outputs": [
    {
     "name": "stdout",
     "output_type": "stream",
     "text": [
      "[-4.]\n",
      "[ 0.55168546+1.25334886j  0.55168546-1.25334886j -1.49179799+0.j\n",
      " -0.80578647+1.22290471j -0.80578647-1.22290471j]\n",
      "[6.66690046e-01 1.00089976e-08]\n",
      "[-0.0058332  -0.01997935]\n"
     ]
    }
   ],
   "source": [
    "#Task 6 - source code\n",
    "\n",
    "W = np.logspace(-2, 2, 2)\n",
    "B = np.poly1d([1, 4])\n",
    "A = np.poly1d([1, 2,3,4,5,6])\n",
    "s = W*1j\n",
    "H = B(s)/A(s) # or  H = np.polyval(B,s)/np.polyval(A,s) the same of the beginning equation\n",
    "M = np.abs(H)\n",
    "P = np.angle(H)\n",
    "\n",
    "print(np.roots(B))\n",
    "print(np.roots(A))\n",
    "print(M)\n",
    "print(P)\n",
    "\n"
   ]
  },
  {
   "cell_type": "markdown",
   "metadata": {},
   "source": [
    "### Task 6 - answer\n",
    "system is stable"
   ]
  },
  {
   "cell_type": "markdown",
   "metadata": {},
   "source": [
    "---- \n",
    "## Task 7\n",
    "---- \n",
    "<img alt=\"My Image\"\n",
    "src=\"data:image/png;base64,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\"/>\n",
    "\n",
    "\n",
    "The frequency response of a closed-loop feedback system is:\n",
    "$$ H(s) = {{H_1(s)} \\over {1 + H_1(s) \\cdot H_2(s)}} $$\n",
    "where $H_1(s)$ is the frequency response of the system and $H_2(s)$ is the frequency response in the feedback loop.  \n",
    "\n",
    "For:  \n",
    "$H_1(s) = {{1} \\over {s - 3.5}}$  \n",
    "$H_2(s) = k$ (where $k$ is simply the k-times gain in the feedback loop, should be POSITIVE)  \n",
    "\n",
    "Check:\n",
    "* is the system $H_1(s)$ stable?\n",
    "* if it is NOT, is there a value of $k$ for which the closed-loop feedback system $H(s)$ becomes stable? Give range of $k$.  \n",
    "\n",
    "For the calculations use `sympy`, `sympy.solve`.\n"
   ]
  },
  {
   "cell_type": "code",
   "execution_count": null,
   "metadata": {},
   "outputs": [],
   "source": [
    "#Task 7 - source code\n",
    "\n",
    "\n",
    "\n",
    "\n"
   ]
  },
  {
   "cell_type": "markdown",
   "metadata": {},
   "source": [
    "---- \n",
    "## Additional task - trigonometric Fourier series\n",
    "---- \n",
    "* Use signal from Task 3.  \n",
    "* Based on the function equation, find the signal decoposition into the trigonometric Fourier series (display equations for a0, ak, bk).  \n",
    "* Display values of the first 3 coefficients (assume T=1) - just display them.  \n",
    "* In a single graph, draw one period of the original signal (in RED) and the reconstructed signal (in GREEN) using the coefficients a0, ak and bk for k < (3+R),  \n",
    "\n",
    " where R = the last digit of the index number.\n",
    "\n",
    "\n",
    " TIP: Signal reconstruction from limited number of harmonics may be purely NUMERICAL solution (sum/difference of several signals/functions).  \n",
    " DO NOT USE `ipywidgets`!!"
   ]
  },
  {
   "cell_type": "code",
   "execution_count": 116,
   "metadata": {},
   "outputs": [
    {
     "data": {
      "text/latex": [
       "$\\displaystyle \\frac{- 6 \\pi + 1.375 + 8 \\pi^{2}}{\\pi}$"
      ],
      "text/plain": [
       "(-6*pi + 1.375 + 8*pi**2)/pi"
      ]
     },
     "metadata": {},
     "output_type": "display_data"
    },
    {
     "data": {
      "text/latex": [
       "$\\displaystyle 0.5 \\pi \\left(\\frac{- i k e^{0.25 i k} + i k e^{- 0.25 i k}}{k^{2}} + \\frac{8}{k^{2}} - \\frac{4 k^{2} e^{0.75 i k} + 4 k^{2} e^{- 0.75 i k}}{k^{4}}\\right)$"
      ],
      "text/plain": [
       "0.5*pi*((-I*k*exp(0.25*I*k) + I*k*exp(-0.25*I*k))/k**2 + 8/k**2 - (4*k**2*exp(0.75*I*k) + 4*k**2*exp(-0.75*I*k))/k**4)"
      ]
     },
     "metadata": {},
     "output_type": "display_data"
    },
    {
     "data": {
      "text/latex": [
       "$\\displaystyle \\frac{i \\pi \\left(\\frac{- i k e^{0.25 i k} + i k e^{- 0.25 i k}}{k^{2}} + \\frac{8}{k^{2}} - \\frac{4 k^{2} e^{0.75 i k} + 4 k^{2} e^{- 0.75 i k}}{k^{4}}\\right)}{2}$"
      ],
      "text/plain": [
       "I*pi*((-I*k*exp(0.25*I*k) + I*k*exp(-0.25*I*k))/k**2 + 8/k**2 - (4*k**2*exp(0.75*I*k) + 4*k**2*exp(-0.75*I*k))/k**4)/2"
      ]
     },
     "metadata": {},
     "output_type": "display_data"
    },
    {
     "data": {
      "text/latex": [
       "$\\displaystyle \\frac{0.5 \\pi \\left(- i k \\left(e^{0.5 i k} - 1\\right) e^{0.75 i k} - 4 \\left(e^{1.5 i k} + 1\\right) e^{0.25 i k} + 8 e^{1.0 i k}\\right) e^{- 1.0 i k}}{k^{2}}$"
      ],
      "text/plain": [
       "0.5*pi*(-I*k*(exp(0.5*I*k) - 1)*exp(0.75*I*k) - 4*(exp(1.5*I*k) + 1)*exp(0.25*I*k) + 8*exp(1.0*I*k))*exp(-1.0*I*k)/k**2"
      ]
     },
     "metadata": {},
     "output_type": "display_data"
    },
    {
     "data": {
      "text/latex": [
       "$\\displaystyle \\frac{i \\pi \\left(- i k \\left(e^{0.5 i k} - 1\\right) e^{0.75 i k} - 4 \\left(e^{1.5 i k} + 1\\right) e^{0.25 i k} + 8 e^{1.0 i k}\\right) e^{- 1.0 i k}}{2 k^{2}}$"
      ],
      "text/plain": [
       "I*pi*(-I*k*(exp(0.5*I*k) - 1)*exp(0.75*I*k) - 4*(exp(1.5*I*k) + 1)*exp(0.25*I*k) + 8*exp(1.0*I*k))*exp(-1.0*I*k)/(2*k**2)"
      ]
     },
     "metadata": {},
     "output_type": "display_data"
    }
   ],
   "source": [
    "#Additional task - source code\n",
    "\n",
    "import math\n",
    "#declare symbolic variable k\n",
    "k = sympy.Symbol('k', real = 'True', nonzero=True, positive=True, integer=True)\n",
    "\n",
    "def determineFourierCoefficients(Function):\n",
    "    #declare kernel\n",
    "    kernel1 = sympy.exp(-sympy.I*t*k)\n",
    "    kernel2 = sympy.exp(sympy.I*t*k)\n",
    "    #determine F0\n",
    "    A0 = (1/sympy.pi) * sympy.integrate(Function, (t, 0, 2*sympy.pi))   \n",
    "    display(A0)\n",
    "    #determine Fk\n",
    "    Ak = (1/2*sympy.pi) * sympy.integrate(Function * (kernel1+kernel2), (t, 0, 2*sympy.pi))\n",
    "    Bk = (sympy.I/2*sympy.pi) * sympy.integrate(Function * (kernel1+kernel2), (t, 0, 2*sympy.pi))\n",
    "    display(Ak)\n",
    "    display(Bk)\n",
    "    display(Ak.simplify())\n",
    "    display(Bk.simplify())\n",
    "    return A0, Ak, Bk\n",
    "\n",
    "A0, Ak, Bk = determineFourierCoefficients(currFun)\n",
    "\n",
    "\n"
   ]
  },
  {
   "cell_type": "markdown",
   "metadata": {},
   "source": [
    "---- \n",
    "## How to send answers\n",
    "---- \n",
    "Export the notebook (along with graphs and results) to a `FirstNameLastName.html` file and upload it to the e-kursy system toogether with the script.  \n",
    "Before export click \"Run All\" button - check if everthing is OK.  \n",
    "Deadline for sending the answers - 01.02.2022 17:00.\n",
    "\n",
    "  \n",
    "    \n",
    "\n",
    "Tip: Export option is hidden on the bar (3 dots symbol) - see screen shot.  \n",
    "  \n",
    "  \n",
    "<img alt=\"My Image\"\n",
    "src=\"data:image/png;base64,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\"/>\n",
    "\n",
    "\n",
    "## GOOD LUCK!"
   ]
  }
 ],
 "metadata": {
  "kernelspec": {
   "display_name": "Python 3",
   "language": "python",
   "name": "python3"
  },
  "language_info": {
   "codemirror_mode": {
    "name": "ipython",
    "version": 3
   },
   "file_extension": ".py",
   "mimetype": "text/x-python",
   "name": "python",
   "nbconvert_exporter": "python",
   "pygments_lexer": "ipython3",
   "version": "3.7.3"
  },
  "orig_nbformat": 2,
  "vscode": {
   "interpreter": {
    "hash": "017855e8bef6a756f853605373dc42ea8c9feeed39fa101db6785814c0363443"
   }
  }
 },
 "nbformat": 4,
 "nbformat_minor": 2
}
